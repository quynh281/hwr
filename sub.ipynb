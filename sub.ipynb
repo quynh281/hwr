{
 "cells": [
  {
   "cell_type": "code",
   "execution_count": 2,
   "metadata": {},
   "outputs": [],
   "source": [
    "import numpy as np\n",
    "from tensorflow import keras\n",
    "from keras.datasets import mnist\n",
    "import matplotlib.pyplot as plt\n",
    "from sklearn.metrics import classification_report \n"
   ]
  },
  {
   "cell_type": "code",
   "execution_count": 3,
   "metadata": {},
   "outputs": [],
   "source": [
    "# Tải dữ liệu huấn luyện và dữ liệu đánh giá cho mô hình\n",
    "(x_train, y_train),(x_test, y_test)= mnist.load_data()"
   ]
  },
  {
   "cell_type": "code",
   "execution_count": 21,
   "metadata": {},
   "outputs": [],
   "source": [
    "# xây dựng cấu trúc mô hình\n",
    "from tensorflow import keras\n",
    "def DCNN1_model():\n",
    "    #CNN layer\n",
    "    model = keras.Sequential()\n",
    "    model.add(keras.layers.Conv2D(64,(5,5), input_shape=(28,28,1), activation = 'relu'))\n",
    "    model.add(keras.layers.MaxPooling2D(pool_size=(2,2)))\n",
    "    model.add(keras.layers.Dropout(0,25))\n",
    "    model.add(keras.layers.Conv2D(32, (3,3),activation='relu'))\n",
    "    model.add(keras.layers.MaxPooling2D(pool_size=(2,2)))\n",
    "    model.add(keras.layers.Dropout(0,25))\n",
    "\n",
    "    model.add(keras.layers.Flatten())\n",
    "\n",
    "    # MLP with 3 hidden layer\n",
    "    model.add(keras.layers.Dense(375, activation='relu'))\n",
    "    model.add(keras.layers.Dropout(0.25))\n",
    "    model.add(keras.layers.Dense(225, activation='relu'))\n",
    "    model.add(keras.layers.Dropout(0.25))\n",
    "    model.add(keras.layers.Dense(135, activation='relu'))\n",
    "    model.add(keras.layers.Dropout(0.25))\n",
    "    model.add(keras.layers.Dense(10, activation='softmax'))\n",
    "    model.compile(loss = 'sparse_categorical_crossentropy',optimizer = keras.optimizers.Adam(learning_rate=0.01), metrics=['accuracy'])\n",
    "    return model"
   ]
  },
  {
   "cell_type": "code",
   "execution_count": 22,
   "metadata": {},
   "outputs": [
    {
     "name": "stdout",
     "output_type": "stream",
     "text": [
      "Epoch 1/10\n",
      "235/235 - 40s - loss: 3.0346 - accuracy: 0.6142 - val_loss: 0.3185 - val_accuracy: 0.9070 - 40s/epoch - 171ms/step\n",
      "Epoch 2/10\n",
      "235/235 - 37s - loss: 0.3639 - accuracy: 0.9031 - val_loss: 0.2004 - val_accuracy: 0.9426 - 37s/epoch - 156ms/step\n",
      "Epoch 3/10\n",
      "235/235 - 35s - loss: 0.2885 - accuracy: 0.9239 - val_loss: 0.1747 - val_accuracy: 0.9521 - 35s/epoch - 150ms/step\n",
      "Epoch 4/10\n",
      "235/235 - 36s - loss: 0.2572 - accuracy: 0.9328 - val_loss: 0.1561 - val_accuracy: 0.9569 - 36s/epoch - 154ms/step\n",
      "Epoch 5/10\n",
      "235/235 - 35s - loss: 0.2690 - accuracy: 0.9317 - val_loss: 0.1741 - val_accuracy: 0.9490 - 35s/epoch - 150ms/step\n",
      "Epoch 6/10\n",
      "235/235 - 36s - loss: 0.2491 - accuracy: 0.9366 - val_loss: 0.1672 - val_accuracy: 0.9563 - 36s/epoch - 152ms/step\n",
      "Epoch 7/10\n",
      "235/235 - 36s - loss: 0.2505 - accuracy: 0.9373 - val_loss: 0.1578 - val_accuracy: 0.9576 - 36s/epoch - 152ms/step\n",
      "Epoch 8/10\n",
      "235/235 - 35s - loss: 0.2460 - accuracy: 0.9381 - val_loss: 0.1701 - val_accuracy: 0.9535 - 35s/epoch - 149ms/step\n",
      "Epoch 9/10\n",
      "235/235 - 36s - loss: 0.2560 - accuracy: 0.9365 - val_loss: 0.1613 - val_accuracy: 0.9549 - 36s/epoch - 153ms/step\n",
      "Epoch 10/10\n",
      "235/235 - 37s - loss: 0.2326 - accuracy: 0.9430 - val_loss: 0.1691 - val_accuracy: 0.9556 - 37s/epoch - 156ms/step\n"
     ]
    },
    {
     "data": {
      "text/plain": [
       "<keras.src.callbacks.History at 0x22526589f70>"
      ]
     },
     "execution_count": 22,
     "metadata": {},
     "output_type": "execute_result"
    }
   ],
   "source": [
    "# huấn luyện mô hình\n",
    "model = DCNN1_model()\n",
    "model.fit(x_train, y_train, validation_data = (x_test, y_test), epochs=10, batch_size=256, verbose=2)\n"
   ]
  },
  {
   "cell_type": "code",
   "execution_count": 29,
   "metadata": {},
   "outputs": [
    {
     "name": "stderr",
     "output_type": "stream",
     "text": [
      "d:\\handwritten\\env\\lib\\site-packages\\keras\\src\\engine\\training.py:3000: UserWarning: You are saving your model as an HDF5 file via `model.save()`. This file format is considered legacy. We recommend using instead the native Keras format, e.g. `model.save('my_model.keras')`.\n",
      "  saving_api.save_model(\n"
     ]
    }
   ],
   "source": [
    "#lưu lại mô hình\n",
    "model.save('hwr.h5')"
   ]
  },
  {
   "cell_type": "code",
   "execution_count": 28,
   "metadata": {},
   "outputs": [],
   "source": [
    "#tải mô hình sẵn có\n",
    "model2 = keras.models.load_model(\"hwr.h5\")"
   ]
  },
  {
   "cell_type": "code",
   "execution_count": 25,
   "metadata": {},
   "outputs": [
    {
     "name": "stdout",
     "output_type": "stream",
     "text": [
      "313/313 [==============================] - 3s 10ms/step\n",
      "              precision    recall  f1-score   support\n",
      "\n",
      "           0       0.97      0.97      0.97       983\n",
      "           1       0.98      0.99      0.98      1123\n",
      "           2       0.95      0.97      0.96      1019\n",
      "           3       0.98      0.94      0.96      1051\n",
      "           4       0.93      0.97      0.95       947\n",
      "           5       0.97      0.96      0.96       903\n",
      "           6       0.97      0.98      0.97       953\n",
      "           7       0.94      0.94      0.94      1019\n",
      "           8       0.89      0.96      0.93       907\n",
      "           9       0.97      0.90      0.93      1095\n",
      "\n",
      "    accuracy                           0.96     10000\n",
      "   macro avg       0.96      0.96      0.96     10000\n",
      "weighted avg       0.96      0.96      0.96     10000\n",
      "\n"
     ]
    }
   ],
   "source": [
    "# đánh giá mô hình \n",
    "pred = np.argmax(model2.predict(x_test),axis=1)\n",
    "print(classification_report(pred,y_test))"
   ]
  },
  {
   "cell_type": "code",
   "execution_count": 30,
   "metadata": {},
   "outputs": [
    {
     "name": "stdout",
     "output_type": "stream",
     "text": [
      "1/1 [==============================] - 0s 173ms/step\n",
      "1/1 [==============================] - 0s 21ms/step\n",
      "1/1 [==============================] - 0s 19ms/step\n",
      "1/1 [==============================] - 0s 18ms/step\n"
     ]
    }
   ],
   "source": [
    "import tkinter as tk\n",
    "from PIL import ImageGrab\n",
    "import numpy as np\n",
    "import tensorflow as tf\n",
    "from tensorflow import keras\n",
    "\n",
    "#tải mô hình sẵn có\n",
    "model.save('hwr.h5')\n",
    "# Hàm dự đoán chữ số\n",
    "def predict_digit(image):\n",
    "    image = image.resize((28, 28))\n",
    "    image = image.convert('L')  # Đổi sang ảnh grayscale\n",
    "    image = np.array(image)\n",
    "    image = image.reshape(1, 28, 28, 1)\n",
    "    image = image / 255.0\n",
    "    prediction = model.predict(image)\n",
    "    return np.argmax(prediction)\n",
    "\n",
    "# Tạo giao diện\n",
    "class App(tk.Tk):\n",
    "    def __init__(self):\n",
    "        super().__init__()\n",
    "        self.title(\"Handwritten Digit Recognition\")\n",
    "        self.canvas = tk.Canvas(self, width=200, height=200, bg='white')\n",
    "        self.canvas.pack()\n",
    "        \n",
    "        self.button_predict = tk.Button(self, text=\"Predict\", command=self.predict)\n",
    "        self.button_predict.pack()\n",
    "        \n",
    "        self.button_save = tk.Button(self, text=\"Save Image\", command=self.save_image)\n",
    "        self.button_save.pack()\n",
    "\n",
    "        self.button_clear = tk.Button(self, text=\"Clear\", command=self.clear_canvas)\n",
    "        self.button_clear.pack()\n",
    "        \n",
    "        self.label_result = tk.Label(self, text=\"Prediction: None\", font=(\"Helvetica\", 24))\n",
    "        self.label_result.pack()\n",
    "\n",
    "        self.canvas.bind(\"<B1-Motion>\", self.draw)\n",
    "\n",
    "    def draw(self, event):\n",
    "        x, y = event.x, event.y\n",
    "        self.canvas.create_oval(x - 5, y - 5, x + 5, y + 5, fill='black')\n",
    "\n",
    "    def predict(self):\n",
    "        x = self.winfo_rootx() + self.canvas.winfo_x()\n",
    "        y = self.winfo_rooty() + self.canvas.winfo_y()\n",
    "        x1 = x + self.canvas.winfo_width()\n",
    "        y1 = y + self.canvas.winfo_height()\n",
    "        image = ImageGrab.grab().crop((x, y, x1, y1))\n",
    "        \n",
    "        # Lưu ảnh để kiểm tra\n",
    "        image.save(\"canvas_image.png\")\n",
    "\n",
    "        # Nhận diện chữ số\n",
    "        digit = predict_digit(image)\n",
    "        self.label_result.config(text=f\"Prediction: {digit}\")\n",
    "\n",
    "    def save_image(self):\n",
    "        x = self.winfo_rootx() + self.canvas.winfo_x()\n",
    "        y = self.winfo_rooty() + self.canvas.winfo_y()\n",
    "        x1 = x + self.canvas.winfo_width()\n",
    "        y1 = y + self.canvas.winfo_height()\n",
    "        image = ImageGrab.grab().crop((x, y, x1, y1))\n",
    "        image = image.resize((28, 28)).convert(\"L\")  # Đảm bảo ảnh giống với tập huấn luyện\n",
    "        image.save(\"saved_canvas_image.png\")\n",
    "        print(\"Image saved as 'saved_canvas_image.png'\")\n",
    "\n",
    "    def clear_canvas(self):\n",
    "        self.canvas.delete(\"all\")\n",
    "# Chạy ứng dụng\n",
    "app = App()\n",
    "app.mainloop()"
   ]
  }
 ],
 "metadata": {
  "kernelspec": {
   "display_name": "env",
   "language": "python",
   "name": "python3"
  },
  "language_info": {
   "codemirror_mode": {
    "name": "ipython",
    "version": 3
   },
   "file_extension": ".py",
   "mimetype": "text/x-python",
   "name": "python",
   "nbconvert_exporter": "python",
   "pygments_lexer": "ipython3",
   "version": "3.8.0rc1"
  }
 },
 "nbformat": 4,
 "nbformat_minor": 2
}
